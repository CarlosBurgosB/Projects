{
  "nbformat": 4,
  "nbformat_minor": 0,
  "metadata": {
    "colab": {
      "name": "Greedy Algorithms Applications in Videogame Itemization.ipynb",
      "provenance": [],
      "collapsed_sections": [],
      "authorship_tag": "ABX9TyORlqXsaFaXe/dYpmV2BKJ3",
      "include_colab_link": true
    },
    "kernelspec": {
      "name": "python3",
      "display_name": "Python 3"
    },
    "language_info": {
      "name": "python"
    }
  },
  "cells": [
    {
      "cell_type": "markdown",
      "metadata": {
        "id": "view-in-github",
        "colab_type": "text"
      },
      "source": [
        "<a href=\"https://colab.research.google.com/github/CarlosBurgosB/Projects/blob/main/Greedy_Algorithms_Applications_in_Videogame_Itemization.ipynb\" target=\"_parent\"><img src=\"https://colab.research.google.com/assets/colab-badge.svg\" alt=\"Open In Colab\"/></a>"
      ]
    },
    {
      "cell_type": "markdown",
      "metadata": {
        "id": "DYXHHULBGRgl"
      },
      "source": [
        "# Greedy Algorithms Applications in Videogame Itemization\n",
        "\n",
        "The following example, for an specific case in League of Legends, shows how itemization in videogames can be optimized using a greedy algorithm, further discussion in section **Expanding the model**.\n",
        "\n",
        "This model aims to obtain the best 3 item combination to tank damage coming from an AD Carry. \n",
        "\n",
        "A few assumptions were made for the model:\n",
        "\n",
        "\n",
        "*   The incoming damage from the AD Carry was estimated from a lvl 13 Aphelios building Berserker's Greaves, Immortal Shieldbow and Lord Dominik's regards. Since there's a crit chance involved, the damage is the expected value assuming 40% of the AA crits = 277\n",
        "*  Analytically, the first item for the tank in the model will always be Plated Stellcaps, since all tanks need to build boots and PS are de facto the best boots against Basic Attack damage. \n",
        "*   Anathema's chain was not included in the model, if it was the output would always have been PS + Mythic + Anathema's, but building the item and using the active on an AD Carry gaves up a lot in solo lane.\n",
        "*   The model takes in account the lifeline effect from Sterak's Cage, Randuin's active, passive of the items and effects of Cut Down and Lord Dominik's Regards.\n",
        "*   The model takes in account the base HP and Armor of a tank at lvl 13.\n",
        "\n",
        "Execute all cells and go to the **Output** section to see the resulting item combination."
      ]
    },
    {
      "cell_type": "markdown",
      "metadata": {
        "id": "ftcMaHgOeypS"
      },
      "source": [
        "## Code\n"
      ]
    },
    {
      "cell_type": "code",
      "metadata": {
        "id": "k3j4_D-Yte4g"
      },
      "source": [
        "#Data of items entered manually (didn't have time to learn to export item data from riot api)\n",
        "#The notation for the elements of each list is [Item Name, effective HP, Armor]\n",
        "\n",
        "#Mythic items\n",
        "Mythic = [[\"Sunfire Aegis\",350+50,35], [\"Frostfire Gauntlet\",350+100,25], [\"Turbo Chemtank\",350+50 ,25 ]]\n",
        "\n",
        "#Legendary items, excluding edge cases (sterak's and randuin)\n",
        "Legendary = [[\"Chempunk Chainsword\",250,0],[\"Dead Man's Plate\",300,45],[\"Knight's Vow\",400,0],[\"Redemption\",200,0],[\"Warmog's armor\",800,0],\n",
        "            [\"Demonic Embrace\",450,0],[\"Titanic Hydra\",500,0],[\"Thornmail\",350,60],[\"Zeke's Convergence\",250,25]]\n",
        "\n",
        "#Sterak's\n",
        "steraks = [\"Sterak's Gage\",400,0]\n",
        "#Randuin's\n",
        "randuin = [\"Randuin's Omen\",250,80]\n",
        "#Frozen Heart\n",
        "frozen = [\"Frozen Heart\",0,80]\n",
        "#Plated Steelcaps Armor\n",
        "PS_arm = 20"
      ],
      "execution_count": null,
      "outputs": []
    },
    {
      "cell_type": "code",
      "metadata": {
        "id": "bwJdn5pKqwsf"
      },
      "source": [
        "#Greedy algorithm for non edge cases\n",
        "max_non_edge = 0\n",
        "max_items_non_edge = [0]\n",
        "for i in range(0,3):\n",
        "  for j in range(0,9):\n",
        "    HP = 1615 + Mythic[i][1] + Legendary[j][1]\n",
        "    #effective armor as (base + items - lethality) * (1-armor pen percentage from LDR)\n",
        "    EffArmor = (83.5 + PS_arm +Mythic[i][2]+Legendary[j][2]-4.5 )*0.65\n",
        "    #damage amp from cut down and dominik (same formula for both)\n",
        "    cd_dr_dmg_increase = ((HP-1494)/1494-0.1)*1/9+0.05\n",
        "    #since aphelios has both it is applied multiplicatively\n",
        "    #0.88 multiplier from plated steelcaps passive\n",
        "    damage_per_second = 277* 1.63 *(1+cd_dr_dmg_increase)*(1+cd_dr_dmg_increase)*(100/(100+EffArmor)) * 0.88\n",
        "    time = HP/damage_per_second\n",
        "    if time > max_non_edge:\n",
        "      max_non_edge = time\n",
        "      max_items_non_edge[0] = [\"Plated Steelcaps\", Mythic[i][0], Legendary[j][0]]\n",
        "\n"
      ],
      "execution_count": null,
      "outputs": []
    },
    {
      "cell_type": "code",
      "metadata": {
        "id": "jtX_gbevldJp"
      },
      "source": [
        "#Sterak's edge cases\n",
        "max_st_edge = 0\n",
        "max_items_st_edge = [0]\n",
        "for i in range(0,3):\n",
        "  HP = 1615 + Mythic[i][1] + steraks[1]\n",
        "  #effective armor as (base + items - lethality) * (1-armor pen percentage from LDR)\n",
        "  EffArmor = (83.5 + PS_arm +Mythic[i][2]+steraks[2]-4.5 )*0.65\n",
        "  #damage amp from cut down and dominik (same formula for both) \n",
        "  cd_dr_dmg_increase = ((HP-1494)/1494-0.1)*1/9+0.05\n",
        "  #since aphelios has both it is applied multiplicatively\n",
        "  #0.88 multiplier from plated steelcaps passive\n",
        "  damage_per_second = 277* 1.63 *(1+cd_dr_dmg_increase)*(1+cd_dr_dmg_increase)*(100/(100+EffArmor)) * 0.88\n",
        "  shield = 100+0.4*HP\n",
        "  if shield > damage_per_second*4:\n",
        "    HP = HP + damage_per_second*4\n",
        "  else:\n",
        "    HP = HP + shield\n",
        "  time = HP/damage_per_second\n",
        "  if time > max_st_edge:\n",
        "    max_st_edge = time\n",
        "    max_items_st_edge[0] = [\"Plated Steelcaps\", Mythic[i][0], steraks[0]]\n"
      ],
      "execution_count": null,
      "outputs": []
    },
    {
      "cell_type": "code",
      "metadata": {
        "id": "S2QIo6SFlf3D"
      },
      "source": [
        "#Randuin's edge cases\n",
        "#similar to non-edge cases, however, a flat damage reduction is add to each AA because of Rock Solid passive\n",
        "max_r_edge = 0\n",
        "max_items_r_edge = [0]\n",
        "for i in range(0,3):\n",
        "  HP = 1615 + Mythic[i][1] + randuin[1]\n",
        "  #Rock solid passive\n",
        "  Damage_reduction = 5 + int(HP/1000)*3.5\n",
        "  #effective armor as (base + items - lethality) * (1-armor pen percentage from LDR)\n",
        "  EffArmor = (83.5 + PS_arm +Mythic[i][2]+randuin[2]-4.5 )*0.65\n",
        "  #damage amp from cut down and dominik (same formula for both)\n",
        "  cd_dr_dmg_increase = ((HP-1494)/1494-0.1)*1/9+0.05\n",
        "  #since aphelios has both it is applied multiplicatively\n",
        "  #0.88 multiplier from plated steelcaps passive\n",
        "  damage_per_second = 277* 1.63 *(1+cd_dr_dmg_increase)*(1+cd_dr_dmg_increase)*(100/(100+EffArmor)) * 0.88 - Damage_reduction\n",
        "  #AA Damage the first 4 seconds is reduced by randuin's active\n",
        "  AA_r_active_dmg = 213*0.9*0.2 + 213*0.9*1.75*0.8\n",
        "  #so the dps while randuin's is active is\n",
        "  dps_active = AA_r_active_dmg * 1.63 *(1+cd_dr_dmg_increase)*(1+cd_dr_dmg_increase)*(100/(100+EffArmor)) * 0.88 - Damage_reduction\n",
        "  time = HP/dps_active\n",
        "  #if the tank lives more than those 4 seconds the time is 4 + time for remaining health\n",
        "  if time>4:\n",
        "    time = 4 + (HP-dps_active*4)/damage_per_second\n",
        "  if time > max_r_edge:\n",
        "    max_r_edge = time\n",
        "    max_items_r_edge[0] = [\"Plated Steelcaps\", Mythic[i][0], randuin[0]]"
      ],
      "execution_count": null,
      "outputs": []
    },
    {
      "cell_type": "code",
      "metadata": {
        "id": "5OTDChzslhlm"
      },
      "source": [
        "#Frozen Heart edge cases\n",
        "#analog to randuin, without the active\n",
        "#instead of randuin's active, the AS of the enemy is reduced\n",
        "max_f_edge = 0\n",
        "max_items_f_edge = [0]\n",
        "for i in range(0,3):\n",
        "  HP = 1615 + Mythic[i][1] + frozen[1]\n",
        "  #Rock solid passive\n",
        "  Damage_reduction = 5 + int(HP/1000)*3.5\n",
        "  #effective armor as (base + items - lethality) * (1-armor pen percentage from LDR)\n",
        "  EffArmor = (83.5 + PS_arm +Mythic[i][2]+frozen[2]-4.5 )*0.65\n",
        "  #damage amp from cut down and dominik (same formula for both)\n",
        "  cd_dr_dmg_increase = ((HP-1494)/1494-0.1)*1/9+0.05\n",
        "  #since aphelios has both items it is applied multiplicatively\n",
        "  #0.88 multiplier from plated steelcaps passive\n",
        "  #attack speed is not 1.63\n",
        "  a_speed = 1.63*0.8\n",
        "  damage_per_second = 277* a_speed *(1+cd_dr_dmg_increase)*(1+cd_dr_dmg_increase)*(100/(100+EffArmor)) * 0.88 - Damage_reduction\n",
        "  time = HP/damage_per_second\n",
        "  if time > max_f_edge:\n",
        "    max_f_edge = time\n",
        "    max_items_f_edge[0] = [\"Plated Steelcaps\", Mythic[i][0], frozen[0]]"
      ],
      "execution_count": null,
      "outputs": []
    },
    {
      "cell_type": "markdown",
      "metadata": {
        "id": "VM4DH2whlSef"
      },
      "source": [
        "## Output"
      ]
    },
    {
      "cell_type": "code",
      "metadata": {
        "colab": {
          "base_uri": "https://localhost:8080/"
        },
        "id": "7sVS1Sq5cszg",
        "outputId": "000176e4-6295-4253-a96b-9ed76ff5fc05"
      },
      "source": [
        "#Output (best item combination)\n",
        "maximo = max(max_non_edge,max_st_edge,max_r_edge,max_f_edge)\n",
        "print(\"The best item combination is: \")\n",
        "if maximo == max_non_edge:\n",
        "  print(max_items_non_edge)\n",
        "elif maximo == max_st_edge:\n",
        "  print(max_items_st_edge)\n",
        "elif maximo == max_r_edge:\n",
        "  print(max_items_r_edge)\n",
        "else:\n",
        "  print(max_items_f_edge) \n",
        "print(\"With a time alive of \" + str(maximo) + \" seconds\")"
      ],
      "execution_count": null,
      "outputs": [
        {
          "output_type": "stream",
          "name": "stdout",
          "text": [
            "The best item combination is: \n",
            "[['Plated Steelcaps', 'Sunfire Aegis', 'Frozen Heart']]\n",
            "With a time alive of 14.151774536026275 seconds\n"
          ]
        }
      ]
    },
    {
      "cell_type": "markdown",
      "metadata": {
        "id": "3gP2KkUjGRgp"
      },
      "source": [
        "## Expanding the model\n",
        "\n",
        "There are several ways of expanding the previous model:\n",
        "\n",
        "*   Adding item slots, to optimize a full build.\n",
        "*   Adding another damage source, for example a mage, optimizing survivability against both types of damage.\n",
        "*   Adding true damage averaged per second to the time ecuation, to optimize the build against characters with true HP damage like Vayne.\n",
        "*   Adding a restraint to get the best powerspike spending below a certain ammount of gold.\n",
        "\n",
        "It's worth mentioning that this model can be used for Damage Carries, doing the inverse process, using the greedy algorithm to minimize the time the enemy is alive.\n",
        "\n",
        "Concluding, algorithms to optimize itemization are heavily underused in esports, it seems coaching staffs and players rely in manually proving item combinations instead of hiring an item analyst with programming background to automate this task.\n",
        "\n",
        "\n",
        "\n",
        "\n"
      ]
    }
  ]
}