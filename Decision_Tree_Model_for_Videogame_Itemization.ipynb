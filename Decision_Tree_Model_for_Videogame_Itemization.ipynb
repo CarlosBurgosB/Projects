{
  "nbformat": 4,
  "nbformat_minor": 0,
  "metadata": {
    "colab": {
      "name": "Decision Tree Model for Videogame Itemization.ipynb",
      "provenance": [],
      "collapsed_sections": [
        "3gP2KkUjGRgp",
        "IruQE6SWn4m2",
        "HLgrhaz-kJ_-"
      ],
      "authorship_tag": "ABX9TyN7RzwkDqKCZcDgcIIedlPV",
      "include_colab_link": true
    },
    "kernelspec": {
      "name": "python3",
      "display_name": "Python 3"
    },
    "language_info": {
      "name": "python"
    }
  },
  "cells": [
    {
      "cell_type": "markdown",
      "metadata": {
        "id": "view-in-github",
        "colab_type": "text"
      },
      "source": [
        "<a href=\"https://colab.research.google.com/github/CarlosBurgosB/Projects/blob/main/Decision_Tree_Model_for_Videogame_Itemization.ipynb\" target=\"_parent\"><img src=\"https://colab.research.google.com/assets/colab-badge.svg\" alt=\"Open In Colab\"/></a>"
      ]
    },
    {
      "cell_type": "markdown",
      "metadata": {
        "id": "DYXHHULBGRgl"
      },
      "source": [
        "# Decision Tree Model for Videogame Itemization \n",
        "\n",
        "The objective of the following code is showing how the choice of an item when there is uncertainty present (e.g, aiming abilities) can be modeled through decision trees.\n",
        "\n",
        "The player is playing Sylas, a character with 2 skillshots. There are 2 possible items to choose from: Luden's tempest and Everfrost.\n",
        "\n",
        "* Luden's Tempest: doesn't have an active, it only gives the player more damage.\n",
        "* Everfrost: gives less stats than Luden's Tempest, but can be activated to unleash icy shards in a cone, rooting enemies in the middle and slowing the ones on the edges.\n",
        "\n",
        "**TLDR**: Two child nodes, one for each item, there are cases for each item where abilities are hit or missed with known probability. The expected value of the damage is calculated for each node. The item with the most expected damage is the \"winner\" of the tree.\n",
        "\n",
        "Results in section **Resulting Tree** (execute previous cells).\n"
      ]
    },
    {
      "cell_type": "markdown",
      "metadata": {
        "id": "3gP2KkUjGRgp"
      },
      "source": [
        "## Estructure of the Tree  \n",
        "\n"
      ]
    },
    {
      "cell_type": "code",
      "metadata": {
        "colab": {
          "base_uri": "https://localhost:8080/",
          "height": 594
        },
        "id": "FGdbFtCC5-7P",
        "outputId": "0139ecfa-a385-451a-d63a-15f4624b1837"
      },
      "source": [
        "!pip install ipython\n",
        "!pip install Graphviz\n",
        "!pip install aed-utilities\n",
        "import aed_utilities as aed\n",
        "#Implementing Binary Tree Class\n",
        "class Nodoi:\n",
        "    def __init__(self, izq, info, der):\n",
        "        self.izq=izq\n",
        "        self.info=info\n",
        "        self.der=der\n",
        "    def postorden(self):\n",
        "        self.izq.postorden()   \n",
        "        self.der.postorden()\n",
        "        print(self.info, end=\" \")\n",
        "\n",
        "class Nodoe:\n",
        "    def __init__(self, info=\"\"):\n",
        "        self.info=info\n",
        "    def postorden(self):\n",
        "        print(self.info, end=\" \")\n",
        "\n",
        "class Arbol:\n",
        "    def __init__(self,raiz=Nodoe()):\n",
        "        self.raiz=raiz        \n",
        "    def postorden(self):\n",
        "        print(\"Postorden:\", end=\" \")\n",
        "        self.raiz.postorden()\n",
        "        print()\n",
        "    def dibujar(self):\n",
        "      btd = aed.BinaryTreeDrawer(fieldData=\"info\", fieldLeft=\"izq\", fieldRight=\"der\",classNone=Nodoe )\n",
        "      btd.draw_tree(self, \"raiz\")\n",
        "#The letter is the probability of the event happening\n",
        "formula= Arbol(\n",
        "            Nodoi(\n",
        "                Nodoi(Nodoe(\"Hit,p\"),\"Luden\",Nodoe(\"MS,1-p\")),\n",
        "                \"Winner\",\n",
        "                Nodoi(\n",
        "                    Nodoe(\"Root,s\"),\n",
        "                    \"Everfrost\",\n",
        "                    Nodoi(Nodoe(\"Hit,r\"),\"Slow,1-s\",Nodoe(\"MS,1-r\"))\n",
        "                )\n",
        "            )\n",
        "        )\n",
        "formula.dibujar()\n"
      ],
      "execution_count": 5,
      "outputs": [
        {
          "output_type": "stream",
          "name": "stdout",
          "text": [
            "Requirement already satisfied: ipython in /usr/local/lib/python3.7/dist-packages (5.5.0)\n",
            "Requirement already satisfied: prompt-toolkit<2.0.0,>=1.0.4 in /usr/local/lib/python3.7/dist-packages (from ipython) (1.0.18)\n",
            "Requirement already satisfied: traitlets>=4.2 in /usr/local/lib/python3.7/dist-packages (from ipython) (5.1.1)\n",
            "Requirement already satisfied: pygments in /usr/local/lib/python3.7/dist-packages (from ipython) (2.6.1)\n",
            "Requirement already satisfied: setuptools>=18.5 in /usr/local/lib/python3.7/dist-packages (from ipython) (57.4.0)\n",
            "Requirement already satisfied: pickleshare in /usr/local/lib/python3.7/dist-packages (from ipython) (0.7.5)\n",
            "Requirement already satisfied: pexpect in /usr/local/lib/python3.7/dist-packages (from ipython) (4.8.0)\n",
            "Requirement already satisfied: decorator in /usr/local/lib/python3.7/dist-packages (from ipython) (4.4.2)\n",
            "Requirement already satisfied: simplegeneric>0.8 in /usr/local/lib/python3.7/dist-packages (from ipython) (0.8.1)\n",
            "Requirement already satisfied: six>=1.9.0 in /usr/local/lib/python3.7/dist-packages (from prompt-toolkit<2.0.0,>=1.0.4->ipython) (1.15.0)\n",
            "Requirement already satisfied: wcwidth in /usr/local/lib/python3.7/dist-packages (from prompt-toolkit<2.0.0,>=1.0.4->ipython) (0.2.5)\n",
            "Requirement already satisfied: ptyprocess>=0.5 in /usr/local/lib/python3.7/dist-packages (from pexpect->ipython) (0.7.0)\n",
            "Requirement already satisfied: Graphviz in /usr/local/lib/python3.7/dist-packages (0.10.1)\n",
            "Requirement already satisfied: aed-utilities in /usr/local/lib/python3.7/dist-packages (0.5.4)\n",
            "Requirement already satisfied: beautifulsoup4 in /usr/local/lib/python3.7/dist-packages (from aed-utilities) (4.6.3)\n",
            "Requirement already satisfied: validators in /usr/local/lib/python3.7/dist-packages (from aed-utilities) (0.18.2)\n",
            "Requirement already satisfied: six>=1.4.0 in /usr/local/lib/python3.7/dist-packages (from validators->aed-utilities) (1.15.0)\n",
            "Requirement already satisfied: decorator>=3.4.0 in /usr/local/lib/python3.7/dist-packages (from validators->aed-utilities) (4.4.2)\n"
          ]
        },
        {
          "output_type": "display_data",
          "data": {
            "text/plain": [
              "<IPython.core.display.SVG object>"
            ],
            "image/svg+xml": "<svg height=\"182pt\" viewBox=\"0.00 0.00 315.80 182.25\" width=\"316pt\" xmlns=\"http://www.w3.org/2000/svg\" xmlns:xlink=\"http://www.w3.org/1999/xlink\">\n<g class=\"graph\" id=\"graph0\" transform=\"scale(1 1) rotate(0) translate(4 178.2508)\">\n<title>Arbol</title>\n<polygon fill=\"#ffffff\" points=\"-4,4 -4,-178.2508 311.8,-178.2508 311.8,4 -4,4\" stroke=\"transparent\"/>\n<!-- node0 -->\n<g class=\"node\" id=\"node1\">\n<title>node0</title>\n<polygon fill=\"none\" points=\"36,-82.2 0,-82.2 0,-46.2 36,-46.2 36,-82.2\" stroke=\"#000000\"/>\n<text fill=\"#000000\" font-family=\"Times,serif\" font-size=\"14.00\" text-anchor=\"middle\" x=\"18\" y=\"-60.5\">Hit,p</text>\n</g>\n<!-- node2 -->\n<g class=\"node\" id=\"node2\">\n<title>node2</title>\n<ellipse cx=\"51.6\" cy=\"-107.4\" fill=\"none\" rx=\"20.8019\" ry=\"20.8019\" stroke=\"#000000\"/>\n<text fill=\"#000000\" font-family=\"Times,serif\" font-size=\"14.00\" text-anchor=\"middle\" x=\"51.6\" y=\"-103.7\">Luden</text>\n</g>\n<!-- node2&#45;&#45;node0 -->\n<g class=\"edge\" id=\"edge2\">\n<title>node2--node0</title>\n<path d=\"M38.7055,-90.8213C36.5587,-88.0612 34.3219,-85.1852 32.146,-82.3877\" fill=\"none\" stroke=\"#000000\"/>\n</g>\n<!-- node1 -->\n<g class=\"node\" id=\"node3\">\n<title>node1</title>\n<polygon fill=\"none\" points=\"107.7,-86.7 62.7,-86.7 62.7,-41.7 107.7,-41.7 107.7,-86.7\" stroke=\"#000000\"/>\n<text fill=\"#000000\" font-family=\"Times,serif\" font-size=\"14.00\" text-anchor=\"middle\" x=\"85.2\" y=\"-60.5\">MS,1-p</text>\n</g>\n<!-- node2&#45;&#45;node1 -->\n<g class=\"edge\" id=\"edge3\">\n<title>node2--node1</title>\n<path d=\"M64.4945,-90.8213C65.5309,-89.4888 66.5883,-88.1294 67.6496,-86.7648\" fill=\"none\" stroke=\"#000000\"/>\n</g>\n<!-- node8 -->\n<g class=\"node\" id=\"node4\">\n<title>node8</title>\n<ellipse cx=\"118.8\" cy=\"-150.6\" fill=\"none\" rx=\"23.8026\" ry=\"23.8026\" stroke=\"#000000\"/>\n<text fill=\"#000000\" font-family=\"Times,serif\" font-size=\"14.00\" text-anchor=\"middle\" x=\"118.8\" y=\"-146.9\">Winner</text>\n</g>\n<!-- node8&#45;&#45;node2 -->\n<g class=\"edge\" id=\"edge1\">\n<title>node8--node2</title>\n<path d=\"M98.6378,-137.6386C89.3593,-131.6738 78.4439,-124.6568 69.465,-118.8846\" fill=\"none\" stroke=\"#000000\"/>\n</g>\n<!-- node7 -->\n<g class=\"node\" id=\"node6\">\n<title>node7</title>\n<ellipse cx=\"186\" cy=\"-107.4\" fill=\"none\" rx=\"29.3028\" ry=\"29.3028\" stroke=\"#000000\"/>\n<text fill=\"#000000\" font-family=\"Times,serif\" font-size=\"14.00\" text-anchor=\"middle\" x=\"186\" y=\"-103.7\">Everfrost</text>\n</g>\n<!-- node8&#45;&#45;node7 -->\n<g class=\"edge\" id=\"edge4\">\n<title>node8--node7</title>\n<path d=\"M138.9622,-137.6386C145.9211,-133.165 153.8007,-128.0995 161.0936,-123.4113\" fill=\"none\" stroke=\"#000000\"/>\n</g>\n<!-- node3 -->\n<g class=\"node\" id=\"node5\">\n<title>node3</title>\n<polygon fill=\"none\" points=\"171.4,-83.2 133.4,-83.2 133.4,-45.2 171.4,-45.2 171.4,-83.2\" stroke=\"#000000\"/>\n<text fill=\"#000000\" font-family=\"Times,serif\" font-size=\"14.00\" text-anchor=\"middle\" x=\"152.4\" y=\"-60.5\">Root,s</text>\n</g>\n<!-- node7&#45;&#45;node3 -->\n<g class=\"edge\" id=\"edge5\">\n<title>node7--node3</title>\n<path d=\"M168.0196,-84.2824C167.77,-83.9614 167.5207,-83.6409 167.2719,-83.3211\" fill=\"none\" stroke=\"#000000\"/>\n</g>\n<!-- node6 -->\n<g class=\"node\" id=\"node8\">\n<title>node6</title>\n<ellipse cx=\"253.2\" cy=\"-64.2\" fill=\"none\" rx=\"28.102\" ry=\"28.102\" stroke=\"#000000\"/>\n<text fill=\"#000000\" font-family=\"Times,serif\" font-size=\"14.00\" text-anchor=\"middle\" x=\"253.2\" y=\"-60.5\">Slow,1-s</text>\n</g>\n<!-- node7&#45;&#45;node6 -->\n<g class=\"edge\" id=\"edge6\">\n<title>node7--node6</title>\n<path d=\"M210.6412,-91.5592C216.7844,-87.61 223.3587,-83.3837 229.4576,-79.463\" fill=\"none\" stroke=\"#000000\"/>\n</g>\n<!-- node4 -->\n<g class=\"node\" id=\"node7\">\n<title>node4</title>\n<polygon fill=\"none\" points=\"237.6,-39 201.6,-39 201.6,-3 237.6,-3 237.6,-39\" stroke=\"#000000\"/>\n<text fill=\"#000000\" font-family=\"Times,serif\" font-size=\"14.00\" text-anchor=\"middle\" x=\"219.6\" y=\"-17.3\">Hit,r</text>\n</g>\n<!-- node6&#45;&#45;node4 -->\n<g class=\"edge\" id=\"edge7\">\n<title>node6--node4</title>\n<path d=\"M235.8095,-41.8408C235.169,-41.0172 234.5296,-40.1952 233.8951,-39.3794\" fill=\"none\" stroke=\"#000000\"/>\n</g>\n<!-- node5 -->\n<g class=\"node\" id=\"node9\">\n<title>node5</title>\n<polygon fill=\"none\" points=\"307.8,-42 265.8,-42 265.8,0 307.8,0 307.8,-42\" stroke=\"#000000\"/>\n<text fill=\"#000000\" font-family=\"Times,serif\" font-size=\"14.00\" text-anchor=\"middle\" x=\"286.8\" y=\"-17.3\">MS,1-r</text>\n</g>\n<!-- node6&#45;&#45;node5 -->\n<g class=\"edge\" id=\"edge8\">\n<title>node6--node5</title>\n<path d=\"M270.5905,-41.8408C270.7186,-41.6761 270.8467,-41.5114 270.9747,-41.3469\" fill=\"none\" stroke=\"#000000\"/>\n</g>\n</g>\n</svg>"
          },
          "metadata": {}
        }
      ]
    },
    {
      "cell_type": "markdown",
      "metadata": {
        "id": "7PwZSMNXk-d-"
      },
      "source": [
        "The decision Tree has two child nodes that represent the item chosen, for each item there are cases where the player miss or hit abilities, each one with a deterministic probability.\n",
        "\n",
        "There are 2 possibilities for each item:\n",
        "\n",
        "\n",
        "*   Luden:\n",
        "   *   Hitting all the spells, with probability p = 30%\n",
        "   *   Missing some spells, with probability 1-p = 70%\n",
        "\n",
        "*   Everfrost:\n",
        "   *   Hitting the root, with probability s = 30%\n",
        "   *   Missing the root and hitting the slow, with probability 1-s = 70%\n",
        "\n",
        "The damage in the hit and root case is a full combo.\n",
        "In the missing some spells case the excpected value of the damage is calculated differently depending on the item:\n",
        "\n",
        "*   Luden:\n",
        "   *   With a probability of 1/3, the player misses every skillshot, hitting only passive and w.\n",
        "   *   With a probability of 1/3, the player misses q, but hits e.\n",
        "   *   With a probability of 1/3, the player misses e, but hits q.\n",
        "\n",
        "*   Everfrost:\n",
        "   *   With a probability of 2/10, the player misses every skillshot, hitting only passive and w (targeted abilities).\n",
        "   *   With a probability of 4/10, the player misses q, but hits e.\n",
        "   *   With a probability of 4/10, the player misses e, but hits q.\n",
        "\n",
        "The Damage building Everfrost is reduced a 26% because of the magic resistance an average character has at lvl 9. While the damage building Luden's Tempest is only reduced a 23%.\n",
        "\n",
        "To decide which item is the best the expected value for each node is calculated, taking in account the stats of each item.\n"
      ]
    },
    {
      "cell_type": "markdown",
      "metadata": {
        "id": "IruQE6SWn4m2"
      },
      "source": [
        "## Coding the damage of the abilities based on the stats of the chosen item."
      ]
    },
    {
      "cell_type": "code",
      "metadata": {
        "id": "HAoo6QD1xpjj"
      },
      "source": [
        "#Damage Stats of the items\n",
        "#Everfrost\n",
        "E_ap = 80\n",
        "E_active = 100 + E_ap*(30/100) \n",
        "e_multiplier = 100/(100+34.5)\n",
        "#Luden's Echo\n",
        "L_ap = 80\n",
        "L_mr_pen = 6\n",
        "L_echo = 100 + L_ap*(10/100)\n",
        "L_multiplier = 100/(100+34.5-L_mr_pen) \n",
        "#Abilities Damage Everfrost\n",
        "Q_efirst = 95\n",
        "Q_eexp = 204\n",
        "W_ed = 289\n",
        "E_e = 168\n",
        "epassive_proc = 128\n",
        "#Abilities Damage Luden's\n",
        "Q_lfirst = 99\n",
        "Q_lexp = 213\n",
        "W_ld = 298\n",
        "E_l = 178\n",
        "lpassive_proc = 130\n"
      ],
      "execution_count": 6,
      "outputs": []
    },
    {
      "cell_type": "code",
      "metadata": {
        "id": "aUp4SmGvzkdL"
      },
      "source": [
        "#Luden's Ability damage and base cases\n",
        "LHit_Damage = int((Q_lfirst + Q_lexp + W_ld + E_l + 4*lpassive_proc + L_echo)*L_multiplier)\n",
        "LMissing_everything = W_ld + 3*lpassive_proc\n",
        "LMiss_q_hit_e = W_ld + E_l + 3*lpassive_proc\n",
        "LMiss_e_hit_q = W_ld + Q_lfirst + Q_lexp\n",
        "LMS_expectedvalue =  int((LMissing_everything * 1/3 + LMiss_q_hit_e * 1/3 + LMiss_e_hit_q * 1/3 + L_echo)*L_multiplier)\n",
        "\n",
        "#Everfrost's aility Damage and base cases\n",
        "EHit_Damage =  int((Q_efirst + Q_eexp + W_ed + E_e + 4*epassive_proc + E_active)*e_multiplier)\n",
        "EMissing_everything = W_ed + 3*epassive_proc\n",
        "EMiss_q_hit_e = W_ed + E_e + 3*epassive_proc\n",
        "EMiss_e_hit_q = W_ed + Q_efirst + Q_eexp\n",
        "EMS_expectedvalue = int((EMissing_everything * 0.2 + EMiss_q_hit_e * 0.4 + EMiss_e_hit_q * 0.4 + E_active)*e_multiplier)\n",
        "\n",
        "#expected value for the cases\n",
        "Slow = EHit_Damage*0.5 + EMS_expectedvalue*0.5\n",
        "Everfrost = EHit_Damage*0.3 + Slow*0.7\n",
        "Luden = LHit_Damage*0.3 + LMS_expectedvalue*0.7\n",
        "Winner = 0\n",
        "if Luden>Everfrost:\n",
        "  Winner = \"Luden\"\n",
        "else:\n",
        "  Winner = \"Everfrost\""
      ],
      "execution_count": 7,
      "outputs": []
    },
    {
      "cell_type": "markdown",
      "metadata": {
        "id": "HLgrhaz-kJ_-"
      },
      "source": [
        "## Resulting Tree\n",
        "\n",
        "This is the resulting tree after computing the data as [expected damage, probability of event], and chossing the item with the most expected damage."
      ]
    },
    {
      "cell_type": "code",
      "metadata": {
        "colab": {
          "base_uri": "https://localhost:8080/",
          "height": 287
        },
        "id": "QVJDugqvye2z",
        "outputId": "361870f4-8c9c-4ed5-df36-46ddd39ce1d0"
      },
      "source": [
        "formula= Arbol(\n",
        "            Nodoi(\n",
        "                Nodoi(Nodoe([LHit_Damage,0.3]),Luden,Nodoe([LMS_expectedvalue,0.7])),\n",
        "                Winner,\n",
        "                Nodoi(\n",
        "                    Nodoe([EHit_Damage,0.3]),\n",
        "                    Everfrost,\n",
        "                    Nodoi(Nodoe([EHit_Damage,0.5]),[Slow,0.7],Nodoe([EMS_expectedvalue,0.5]))\n",
        "                )\n",
        "            )\n",
        "        )\n",
        "formula.dibujar()"
      ],
      "execution_count": 8,
      "outputs": [
        {
          "output_type": "display_data",
          "data": {
            "text/plain": [
              "<IPython.core.display.SVG object>"
            ],
            "image/svg+xml": "<svg height=\"200pt\" viewBox=\"0.00 0.00 338.30 199.75\" width=\"338pt\" xmlns=\"http://www.w3.org/2000/svg\" xmlns:xlink=\"http://www.w3.org/1999/xlink\">\n<g class=\"graph\" id=\"graph0\" transform=\"scale(1 1) rotate(0) translate(4 195.751)\">\n<title>Arbol</title>\n<polygon fill=\"#ffffff\" points=\"-4,4 -4,-195.751 334.3,-195.751 334.3,4 -4,4\" stroke=\"transparent\"/>\n<!-- node0 -->\n<g class=\"node\" id=\"node1\">\n<title>node0</title>\n<polygon fill=\"none\" points=\"65,-108.7 0,-108.7 0,-43.7 65,-43.7 65,-108.7\" stroke=\"#000000\"/>\n<text fill=\"#000000\" font-family=\"Times,serif\" font-size=\"14.00\" text-anchor=\"middle\" x=\"32.5\" y=\"-72.5\">[1101, 0.3]</text>\n</g>\n<!-- node2 -->\n<g class=\"node\" id=\"node2\">\n<title>node2</title>\n<ellipse cx=\"66.1\" cy=\"-119.4\" fill=\"none\" rx=\"18.9035\" ry=\"18.9035\" stroke=\"#000000\"/>\n<text fill=\"#000000\" font-family=\"Times,serif\" font-size=\"14.00\" text-anchor=\"middle\" x=\"66.1\" y=\"-115.7\">781.8</text>\n</g>\n<!-- node2&#45;&#45;node0 -->\n<g class=\"edge\" id=\"edge2\">\n<title>node2--node0</title>\n<path d=\"M54.3484,-104.2907C54.2727,-104.1934 54.1968,-104.0959 54.1208,-103.9982\" fill=\"none\" stroke=\"#000000\"/>\n</g>\n<!-- node1 -->\n<g class=\"node\" id=\"node3\">\n<title>node1</title>\n<polygon fill=\"none\" points=\"128.7,-105.2 70.7,-105.2 70.7,-47.2 128.7,-47.2 128.7,-105.2\" stroke=\"#000000\"/>\n<text fill=\"#000000\" font-family=\"Times,serif\" font-size=\"14.00\" text-anchor=\"middle\" x=\"99.7\" y=\"-72.5\">[645, 0.7]</text>\n</g>\n<!-- node2&#45;&#45;node1 -->\n<g class=\"edge\" id=\"edge3\">\n<title>node2--node1</title>\n<path d=\"M77.8517,-104.2907C77.9273,-104.1934 78.0032,-104.0959 78.0792,-103.9982\" fill=\"none\" stroke=\"#000000\"/>\n</g>\n<!-- node8 -->\n<g class=\"node\" id=\"node4\">\n<title>node8</title>\n<ellipse cx=\"133.3\" cy=\"-162.6\" fill=\"none\" rx=\"29.3028\" ry=\"29.3028\" stroke=\"#000000\"/>\n<text fill=\"#000000\" font-family=\"Times,serif\" font-size=\"14.00\" text-anchor=\"middle\" x=\"133.3\" y=\"-158.9\">Everfrost</text>\n</g>\n<!-- node8&#45;&#45;node2 -->\n<g class=\"edge\" id=\"edge1\">\n<title>node8--node2</title>\n<path d=\"M108.6588,-146.7592C99.8185,-141.0762 90.0857,-134.8194 82.1614,-129.7252\" fill=\"none\" stroke=\"#000000\"/>\n</g>\n<!-- node7 -->\n<g class=\"node\" id=\"node6\">\n<title>node7</title>\n<ellipse cx=\"200.5\" cy=\"-119.4\" fill=\"none\" rx=\"23.202\" ry=\"23.202\" stroke=\"#000000\"/>\n<text fill=\"#000000\" font-family=\"Times,serif\" font-size=\"14.00\" text-anchor=\"middle\" x=\"200.5\" y=\"-115.7\">888.05</text>\n</g>\n<!-- node8&#45;&#45;node7 -->\n<g class=\"edge\" id=\"edge4\">\n<title>node8--node7</title>\n<path d=\"M157.9412,-146.7592C165.433,-141.9431 173.5657,-136.7149 180.6956,-132.1314\" fill=\"none\" stroke=\"#000000\"/>\n</g>\n<!-- node3 -->\n<g class=\"node\" id=\"node5\">\n<title>node3</title>\n<polygon fill=\"none\" points=\"199.9,-109.2 133.9,-109.2 133.9,-43.2 199.9,-43.2 199.9,-109.2\" stroke=\"#000000\"/>\n<text fill=\"#000000\" font-family=\"Times,serif\" font-size=\"14.00\" text-anchor=\"middle\" x=\"166.9\" y=\"-72.5\">[1034, 0.3]</text>\n</g>\n<!-- node7&#45;&#45;node3 -->\n<g class=\"edge\" id=\"edge5\">\n<title>node7--node3</title>\n<path d=\"M186.2506,-101.0793C186.179,-100.9873 186.1074,-100.8953 186.0358,-100.8031\" fill=\"none\" stroke=\"#000000\"/>\n</g>\n<!-- node6 -->\n<g class=\"node\" id=\"node8\">\n<title>node6</title>\n<ellipse cx=\"267.7\" cy=\"-76.2\" fill=\"none\" rx=\"38.5027\" ry=\"38.5027\" stroke=\"#000000\"/>\n<text fill=\"#000000\" font-family=\"Times,serif\" font-size=\"14.00\" text-anchor=\"middle\" x=\"267.7\" y=\"-72.5\">[825.5, 0.7]</text>\n</g>\n<!-- node7&#45;&#45;node6 -->\n<g class=\"edge\" id=\"edge6\">\n<title>node7--node6</title>\n<path d=\"M219.937,-106.9048C224.7437,-103.8148 230.0236,-100.4205 235.2657,-97.0506\" fill=\"none\" stroke=\"#000000\"/>\n</g>\n<!-- node4 -->\n<g class=\"node\" id=\"node7\">\n<title>node4</title>\n<polygon fill=\"none\" points=\"267.1,-66 201.1,-66 201.1,0 267.1,0 267.1,-66\" stroke=\"#000000\"/>\n<text fill=\"#000000\" font-family=\"Times,serif\" font-size=\"14.00\" text-anchor=\"middle\" x=\"234.1\" y=\"-29.3\">[1034, 0.5]</text>\n</g>\n<!-- node6&#45;&#45;node4 -->\n<g class=\"edge\" id=\"edge7\">\n<title>node6--node4</title>\n<path d=\"M243.9994,-45.7278C243.9125,-45.6161 243.8259,-45.5048 243.7397,-45.3939\" fill=\"none\" stroke=\"#000000\"/>\n</g>\n<!-- node5 -->\n<g class=\"node\" id=\"node9\">\n<title>node5</title>\n<polygon fill=\"none\" points=\"330.3,-62 272.3,-62 272.3,-4 330.3,-4 330.3,-62\" stroke=\"#000000\"/>\n<text fill=\"#000000\" font-family=\"Times,serif\" font-size=\"14.00\" text-anchor=\"middle\" x=\"301.3\" y=\"-29.3\">[617, 0.5]</text>\n</g>\n<!-- node6&#45;&#45;node5 -->\n<g class=\"edge\" id=\"edge8\">\n<title>node6--node5</title>\n<path d=\"M291.4006,-45.7278C291.4875,-45.6161 291.5741,-45.5048 291.6603,-45.3939\" fill=\"none\" stroke=\"#000000\"/>\n</g>\n</g>\n</svg>"
          },
          "metadata": {}
        }
      ]
    },
    {
      "cell_type": "markdown",
      "metadata": {
        "id": "eCl1vY0jqNTs"
      },
      "source": [
        "The previous model can be expanded to optimize the choice of multiple actives vs non-active items taking in account the full build of the player and effects of each of the other items built."
      ]
    }
  ]
}